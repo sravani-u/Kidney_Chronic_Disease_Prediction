{
  "nbformat": 4,
  "nbformat_minor": 0,
  "metadata": {
    "colab": {
      "provenance": [],
      "authorship_tag": "ABX9TyO07W0xy+2hHuhvUwVLH10b",
      "include_colab_link": true
    },
    "kernelspec": {
      "name": "python3",
      "display_name": "Python 3"
    },
    "language_info": {
      "name": "python"
    }
  },
  "cells": [
    {
      "cell_type": "markdown",
      "metadata": {
        "id": "view-in-github",
        "colab_type": "text"
      },
      "source": [
        "<a href=\"https://colab.research.google.com/github/sravani-u/Kidney_Chronic_Disease_Prediction/blob/main/Kidney_disease_testing.ipynb\" target=\"_parent\"><img src=\"https://colab.research.google.com/assets/colab-badge.svg\" alt=\"Open In Colab\"/></a>"
      ]
    },
    {
      "cell_type": "code",
      "execution_count": 3,
      "metadata": {
        "id": "s7L3_Cnf_YSZ",
        "colab": {
          "base_uri": "https://localhost:8080/"
        },
        "outputId": "ab342137-f582-4512-88f3-2e6001dd91b9"
      },
      "outputs": [
        {
          "name": "stdout",
          "output_type": "stream",
          "text": [
            "enter age:2\n",
            "enter bp:1\n",
            "enter sg:1\n",
            "enter al:1\n",
            "enter su:1\n",
            "enter rbc:1\n",
            "enter pc:1\n",
            "enter pcc:1\n",
            "enter ba:1\n",
            "enter bgr:1\n",
            "enter bu:1\n",
            "enter sc:1\n",
            "enter sod:1\n",
            "enter hemo:1\n",
            "enter pcv:1\n",
            "enter rc:1\n",
            "enter htn:1\n",
            "enter dm:1\n",
            "enter appet:1\n",
            "enter pe:1\n",
            "enter ane:1\n",
            "enter classification:1\n"
          ]
        },
        {
          "output_type": "execute_result",
          "data": {
            "text/plain": [
              "[2, 1, 1, 1, 1, 1, 1, 1, 1, 1, 1, 1, 1, 1, 1, 1, 1, 1, 1, 1, 1, 1]"
            ]
          },
          "metadata": {},
          "execution_count": 3
        }
      ],
      "source": [
        "labels = ['age', 'bp', 'sg', 'al', 'su', 'rbc', 'pc', 'pcc', 'ba', 'bgr', 'bu',\n",
        "       'sc', 'sod', 'hemo', 'pcv', 'rc', 'htn', 'dm', 'appet', 'pe', 'ane',\n",
        "       'classification']\n",
        "inputs = []\n",
        "for lable in labels:\n",
        "  inputs.append(int(input('enter '+ lable + ':')))\n",
        "inputs"
      ]
    },
    {
      "cell_type": "code",
      "source": [
        "from keras.models import load_model\n",
        "import numpy as np\n",
        "obj = load_model('/content/kidney (1).h5')\n",
        "\n",
        "in_array = np.array([inputs])\n",
        "result = obj.predict(in_array)\n",
        "\n",
        "if result > 0.5:\n",
        "  print(\"Kidney Disease\")\n",
        "else:\n",
        "  print(\"No Disease\")"
      ],
      "metadata": {
        "colab": {
          "base_uri": "https://localhost:8080/"
        },
        "id": "OnEeAKKWAWkw",
        "outputId": "453f64f7-40f1-4c1d-f267-b7e1535a1ea5"
      },
      "execution_count": 5,
      "outputs": [
        {
          "output_type": "stream",
          "name": "stderr",
          "text": [
            "WARNING:absl:Compiled the loaded model, but the compiled metrics have yet to be built. `model.compile_metrics` will be empty until you train or evaluate the model.\n"
          ]
        },
        {
          "output_type": "stream",
          "name": "stdout",
          "text": [
            "\u001b[1m1/1\u001b[0m \u001b[32m━━━━━━━━━━━━━━━━━━━━\u001b[0m\u001b[37m\u001b[0m \u001b[1m0s\u001b[0m 191ms/step\n",
            "Kidney Disease\n"
          ]
        }
      ]
    }
  ]
}